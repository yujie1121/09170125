{
 "cells": [
  {
   "cell_type": "code",
   "execution_count": 1,
   "id": "15c97a4d",
   "metadata": {},
   "outputs": [
    {
     "name": "stdout",
     "output_type": "stream",
     "text": [
      "Requirement already satisfied: opencv-python in /opt/anaconda3/lib/python3.8/site-packages (4.5.2.54)\n",
      "Requirement already satisfied: numpy>=1.17.3 in /opt/anaconda3/lib/python3.8/site-packages (from opencv-python) (1.20.1)\n",
      "Note: you may need to restart the kernel to use updated packages.\n"
     ]
    }
   ],
   "source": [
    "pip install opencv-python"
   ]
  },
  {
   "cell_type": "code",
   "execution_count": 2,
   "id": "98fd3cf3",
   "metadata": {},
   "outputs": [],
   "source": [
    "import os,cv2,random\n",
    "import tkinter as tk\n",
    "from tkinter import ttk\n",
    "from tkinter import *\n",
    "from PIL import Image, ImageTk\n",
    "from random import *\n",
    "from turtle import *\n",
    "from turtle import Screen, Turtle\n",
    "\n",
    "def callback():\n",
    "    form.destroy()\n",
    "    os.system('flipping_game.py')\n",
    "\n",
    "form = tk.Tk()\n",
    "form.title('Flipping Game')\n",
    "form.geometry('800x800')\n",
    "form.resizable(False,False)\n",
    "form.configure(bg='#CECEFF')\n",
    "img = Image.open(\"BT21.png\")\n",
    "bt = ImageTk.PhotoImage(img)\n",
    "label = Label(form,text=\"Flipping Game\",\n",
    "              bg=\"#CECEFF\",\n",
    "              width=15,\n",
    "              height=5,\n",
    "              font=(\"Ink Free\",30),\n",
    "              fg=\"#004B97\")\n",
    "label.pack()\n",
    "label = Label(form,image=bt)\n",
    "label.pack()\n",
    "\n",
    "button = tk.Button(form,text=\"Start\",width=20,command=callback)\n",
    "button.pack(side='top',pady=100)\n",
    "form.mainloop()"
   ]
  }
 ],
 "metadata": {
  "kernelspec": {
   "display_name": "Python 3",
   "language": "python",
   "name": "python3"
  },
  "language_info": {
   "codemirror_mode": {
    "name": "ipython",
    "version": 3
   },
   "file_extension": ".py",
   "mimetype": "text/x-python",
   "name": "python",
   "nbconvert_exporter": "python",
   "pygments_lexer": "ipython3",
   "version": "3.8.8"
  }
 },
 "nbformat": 4,
 "nbformat_minor": 5
}
